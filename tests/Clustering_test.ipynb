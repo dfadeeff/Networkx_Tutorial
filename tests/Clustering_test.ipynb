{
 "cells": [
  {
   "cell_type": "code",
   "execution_count": 1,
   "metadata": {
    "collapsed": true
   },
   "outputs": [],
   "source": [
    "import pandas as pd\n",
    "import numpy as np\n",
    "import matplotlib.pyplot as plt\n",
    "%matplotlib inline"
   ]
  },
  {
   "cell_type": "markdown",
   "metadata": {},
   "source": [
    "# This analysis used Graph theory to explore complex relationships\n",
    "\n",
    "\n",
    "<p> It litereally follows every step of the tutorial \n",
    "http://programminghistorian.github.io/ph-submissions/lessons/published/exploring-and-analyzing-network-data-with-python\n",
    "</p>"
   ]
  },
  {
   "cell_type": "code",
   "execution_count": 2,
   "metadata": {
    "collapsed": true
   },
   "outputs": [],
   "source": [
    "df = pd.read_csv(\"Z:00_ETL/CustomerBehaviour/rawdata2.txt\", sep = \"\\t\", encoding = \"ISO-8859-1\")"
   ]
  },
  {
   "cell_type": "code",
   "execution_count": 69,
   "metadata": {},
   "outputs": [
    {
     "name": "stdout",
     "output_type": "stream",
     "text": [
      "(15695999, 9)\n"
     ]
    },
    {
     "data": {
      "text/html": [
       "<div>\n",
       "<style>\n",
       "    .dataframe thead tr:only-child th {\n",
       "        text-align: right;\n",
       "    }\n",
       "\n",
       "    .dataframe thead th {\n",
       "        text-align: left;\n",
       "    }\n",
       "\n",
       "    .dataframe tbody tr th {\n",
       "        vertical-align: top;\n",
       "    }\n",
       "</style>\n",
       "<table border=\"1\" class=\"dataframe\">\n",
       "  <thead>\n",
       "    <tr style=\"text-align: right;\">\n",
       "      <th></th>\n",
       "      <th>series_or_movie_name</th>\n",
       "      <th>encrypted_customer_id</th>\n",
       "      <th>offer_group_desc</th>\n",
       "      <th>first_genre</th>\n",
       "      <th>entity_type</th>\n",
       "      <th>content_age</th>\n",
       "      <th>really_frist_stream</th>\n",
       "      <th>transaction_date_local</th>\n",
       "      <th>display_price</th>\n",
       "    </tr>\n",
       "  </thead>\n",
       "  <tbody>\n",
       "    <tr>\n",
       "      <th>15695994</th>\n",
       "      <td>Royal Pains [dt./OV]</td>\n",
       "      <td>AWHGX01JJFP1A</td>\n",
       "      <td>PRIME</td>\n",
       "      <td>comedy</td>\n",
       "      <td>TV Show</td>\n",
       "      <td>NaN</td>\n",
       "      <td>2016-10-01</td>\n",
       "      <td>NaN</td>\n",
       "      <td>NaN</td>\n",
       "    </tr>\n",
       "    <tr>\n",
       "      <th>15695995</th>\n",
       "      <td>Cloverfield [dt./OV]</td>\n",
       "      <td>AXNCSJSOYNU7Q</td>\n",
       "      <td>PRIME</td>\n",
       "      <td>action</td>\n",
       "      <td>Movie</td>\n",
       "      <td>NaN</td>\n",
       "      <td>2015-11-14</td>\n",
       "      <td>NaN</td>\n",
       "      <td>NaN</td>\n",
       "    </tr>\n",
       "    <tr>\n",
       "      <th>15695996</th>\n",
       "      <td>Mamma Mia! - Der Film [dt./OV]</td>\n",
       "      <td>AXNCSJSOYNU7Q</td>\n",
       "      <td>PRIME</td>\n",
       "      <td>comedy</td>\n",
       "      <td>Movie</td>\n",
       "      <td>NaN</td>\n",
       "      <td>2017-12-23</td>\n",
       "      <td>NaN</td>\n",
       "      <td>NaN</td>\n",
       "    </tr>\n",
       "    <tr>\n",
       "      <th>15695997</th>\n",
       "      <td>Walhalla Rising</td>\n",
       "      <td>AY4FUNR962OYO</td>\n",
       "      <td>PRIME</td>\n",
       "      <td>adventure</td>\n",
       "      <td>Movie</td>\n",
       "      <td>NaN</td>\n",
       "      <td>2014-12-21</td>\n",
       "      <td>NaN</td>\n",
       "      <td>NaN</td>\n",
       "    </tr>\n",
       "    <tr>\n",
       "      <th>15695998</th>\n",
       "      <td>The Zero Theorem [dt./OV]</td>\n",
       "      <td>AYYHG5BNPF7M5</td>\n",
       "      <td>PRIME</td>\n",
       "      <td>comedy</td>\n",
       "      <td>Movie</td>\n",
       "      <td>NaN</td>\n",
       "      <td>2016-12-08</td>\n",
       "      <td>NaN</td>\n",
       "      <td>NaN</td>\n",
       "    </tr>\n",
       "  </tbody>\n",
       "</table>\n",
       "</div>"
      ],
      "text/plain": [
       "                    series_or_movie_name encrypted_customer_id  \\\n",
       "15695994            Royal Pains [dt./OV]         AWHGX01JJFP1A   \n",
       "15695995            Cloverfield [dt./OV]         AXNCSJSOYNU7Q   \n",
       "15695996  Mamma Mia! - Der Film [dt./OV]         AXNCSJSOYNU7Q   \n",
       "15695997                 Walhalla Rising         AY4FUNR962OYO   \n",
       "15695998       The Zero Theorem [dt./OV]         AYYHG5BNPF7M5   \n",
       "\n",
       "         offer_group_desc first_genre entity_type content_age  \\\n",
       "15695994            PRIME      comedy     TV Show         NaN   \n",
       "15695995            PRIME      action       Movie         NaN   \n",
       "15695996            PRIME      comedy       Movie         NaN   \n",
       "15695997            PRIME   adventure       Movie         NaN   \n",
       "15695998            PRIME      comedy       Movie         NaN   \n",
       "\n",
       "         really_frist_stream transaction_date_local  display_price  \n",
       "15695994          2016-10-01                    NaN            NaN  \n",
       "15695995          2015-11-14                    NaN            NaN  \n",
       "15695996          2017-12-23                    NaN            NaN  \n",
       "15695997          2014-12-21                    NaN            NaN  \n",
       "15695998          2016-12-08                    NaN            NaN  "
      ]
     },
     "execution_count": 69,
     "metadata": {},
     "output_type": "execute_result"
    }
   ],
   "source": [
    "print(df.shape)\n",
    "df.tail()"
   ]
  },
  {
   "cell_type": "code",
   "execution_count": 70,
   "metadata": {},
   "outputs": [
    {
     "data": {
      "text/plain": [
       "184163"
      ]
     },
     "execution_count": 70,
     "metadata": {},
     "output_type": "execute_result"
    }
   ],
   "source": [
    "df['encrypted_customer_id'].nunique()"
   ]
  },
  {
   "cell_type": "code",
   "execution_count": 71,
   "metadata": {},
   "outputs": [
    {
     "data": {
      "text/plain": [
       "36856"
      ]
     },
     "execution_count": 71,
     "metadata": {},
     "output_type": "execute_result"
    }
   ],
   "source": [
    "df['series_or_movie_name'].nunique()"
   ]
  },
  {
   "cell_type": "markdown",
   "metadata": {},
   "source": [
    "# Take sample to create toy sample"
   ]
  },
  {
   "cell_type": "code",
   "execution_count": 72,
   "metadata": {
    "collapsed": true
   },
   "outputs": [],
   "source": [
    "toy = df.sample(frac=0.00005)"
   ]
  },
  {
   "cell_type": "code",
   "execution_count": 73,
   "metadata": {},
   "outputs": [
    {
     "data": {
      "text/html": [
       "<div>\n",
       "<style>\n",
       "    .dataframe thead tr:only-child th {\n",
       "        text-align: right;\n",
       "    }\n",
       "\n",
       "    .dataframe thead th {\n",
       "        text-align: left;\n",
       "    }\n",
       "\n",
       "    .dataframe tbody tr th {\n",
       "        vertical-align: top;\n",
       "    }\n",
       "</style>\n",
       "<table border=\"1\" class=\"dataframe\">\n",
       "  <thead>\n",
       "    <tr style=\"text-align: right;\">\n",
       "      <th></th>\n",
       "      <th>series_or_movie_name</th>\n",
       "      <th>encrypted_customer_id</th>\n",
       "      <th>offer_group_desc</th>\n",
       "      <th>first_genre</th>\n",
       "      <th>entity_type</th>\n",
       "      <th>content_age</th>\n",
       "      <th>really_frist_stream</th>\n",
       "      <th>transaction_date_local</th>\n",
       "      <th>display_price</th>\n",
       "    </tr>\n",
       "  </thead>\n",
       "  <tbody>\n",
       "    <tr>\n",
       "      <th>11601855</th>\n",
       "      <td>Rocky IV  - Der Kampf des Jahrhunderts [dt./OV]</td>\n",
       "      <td>A3L5FUF1Q0RXHW</td>\n",
       "      <td>PRIME</td>\n",
       "      <td>drama</td>\n",
       "      <td>Movie</td>\n",
       "      <td>NaN</td>\n",
       "      <td>2017-10-03</td>\n",
       "      <td>NaN</td>\n",
       "      <td>NaN</td>\n",
       "    </tr>\n",
       "    <tr>\n",
       "      <th>4653264</th>\n",
       "      <td>Dr. Seltsam - Oder wie ich lernte, die Bombe z...</td>\n",
       "      <td>A32UD777OIE60L</td>\n",
       "      <td>PRIME</td>\n",
       "      <td>comedy</td>\n",
       "      <td>Movie</td>\n",
       "      <td>NaN</td>\n",
       "      <td>2014-03-29</td>\n",
       "      <td>NaN</td>\n",
       "      <td>NaN</td>\n",
       "    </tr>\n",
       "    <tr>\n",
       "      <th>7712530</th>\n",
       "      <td>Pirates of the Caribbean: Salazars Rache (Teil...</td>\n",
       "      <td>A33J25LOCDUFI7</td>\n",
       "      <td>RENTAL</td>\n",
       "      <td>action</td>\n",
       "      <td>Movie</td>\n",
       "      <td>New Release</td>\n",
       "      <td>2017-10-09</td>\n",
       "      <td>2017-10-09</td>\n",
       "      <td>4.99</td>\n",
       "    </tr>\n",
       "    <tr>\n",
       "      <th>1355429</th>\n",
       "      <td>Cat. 8 - Wenn die Erde verglÃ¼ht [dt./OV]</td>\n",
       "      <td>A3MYQ7D03AV6L5</td>\n",
       "      <td>PRIME</td>\n",
       "      <td>NaN</td>\n",
       "      <td>Movie</td>\n",
       "      <td>NaN</td>\n",
       "      <td>2016-07-13</td>\n",
       "      <td>NaN</td>\n",
       "      <td>NaN</td>\n",
       "    </tr>\n",
       "    <tr>\n",
       "      <th>14323016</th>\n",
       "      <td>12 Years a Slave [dt./OV]</td>\n",
       "      <td>AEPNV4KBETH18</td>\n",
       "      <td>PRIME</td>\n",
       "      <td>biography</td>\n",
       "      <td>Movie</td>\n",
       "      <td>NaN</td>\n",
       "      <td>2016-11-28</td>\n",
       "      <td>NaN</td>\n",
       "      <td>NaN</td>\n",
       "    </tr>\n",
       "  </tbody>\n",
       "</table>\n",
       "</div>"
      ],
      "text/plain": [
       "                                       series_or_movie_name  \\\n",
       "11601855    Rocky IV  - Der Kampf des Jahrhunderts [dt./OV]   \n",
       "4653264   Dr. Seltsam - Oder wie ich lernte, die Bombe z...   \n",
       "7712530   Pirates of the Caribbean: Salazars Rache (Teil...   \n",
       "1355429           Cat. 8 - Wenn die Erde verglÃ¼ht [dt./OV]   \n",
       "14323016                          12 Years a Slave [dt./OV]   \n",
       "\n",
       "         encrypted_customer_id offer_group_desc first_genre entity_type  \\\n",
       "11601855        A3L5FUF1Q0RXHW            PRIME       drama       Movie   \n",
       "4653264         A32UD777OIE60L            PRIME      comedy       Movie   \n",
       "7712530         A33J25LOCDUFI7           RENTAL      action       Movie   \n",
       "1355429         A3MYQ7D03AV6L5            PRIME         NaN       Movie   \n",
       "14323016         AEPNV4KBETH18            PRIME   biography       Movie   \n",
       "\n",
       "          content_age really_frist_stream transaction_date_local  \\\n",
       "11601855          NaN          2017-10-03                    NaN   \n",
       "4653264           NaN          2014-03-29                    NaN   \n",
       "7712530   New Release          2017-10-09             2017-10-09   \n",
       "1355429           NaN          2016-07-13                    NaN   \n",
       "14323016          NaN          2016-11-28                    NaN   \n",
       "\n",
       "          display_price  \n",
       "11601855            NaN  \n",
       "4653264             NaN  \n",
       "7712530            4.99  \n",
       "1355429             NaN  \n",
       "14323016            NaN  "
      ]
     },
     "execution_count": 73,
     "metadata": {},
     "output_type": "execute_result"
    }
   ],
   "source": [
    "toy.shape\n",
    "toy.head()"
   ]
  },
  {
   "cell_type": "code",
   "execution_count": 74,
   "metadata": {},
   "outputs": [
    {
     "data": {
      "text/plain": [
       "782"
      ]
     },
     "execution_count": 74,
     "metadata": {},
     "output_type": "execute_result"
    }
   ],
   "source": [
    "toy['encrypted_customer_id'].nunique()"
   ]
  },
  {
   "cell_type": "code",
   "execution_count": 76,
   "metadata": {},
   "outputs": [
    {
     "data": {
      "text/plain": [
       "array(['A3L5FUF1Q0RXHW', 'A32UD777OIE60L', 'A33J25LOCDUFI7',\n",
       "       'A3MYQ7D03AV6L5', 'AEPNV4KBETH18', 'A1QAQYQ2L7GYD1',\n",
       "       'A3A3CYVZ4V22DH', 'A1TWSGS2678O1I', 'A117K0WR1SAYRH',\n",
       "       'A2I3QBBPXQYKP7'], dtype=object)"
      ]
     },
     "execution_count": 76,
     "metadata": {},
     "output_type": "execute_result"
    }
   ],
   "source": [
    "toy['encrypted_customer_id'].unique()[0:10]"
   ]
  },
  {
   "cell_type": "code",
   "execution_count": 77,
   "metadata": {
    "collapsed": true
   },
   "outputs": [],
   "source": [
    "sample_df = df[df['encrypted_customer_id'].isin(toy['encrypted_customer_id'].unique())]"
   ]
  },
  {
   "cell_type": "code",
   "execution_count": 78,
   "metadata": {},
   "outputs": [
    {
     "name": "stdout",
     "output_type": "stream",
     "text": [
      "(211037, 9)\n"
     ]
    },
    {
     "data": {
      "text/html": [
       "<div>\n",
       "<style>\n",
       "    .dataframe thead tr:only-child th {\n",
       "        text-align: right;\n",
       "    }\n",
       "\n",
       "    .dataframe thead th {\n",
       "        text-align: left;\n",
       "    }\n",
       "\n",
       "    .dataframe tbody tr th {\n",
       "        vertical-align: top;\n",
       "    }\n",
       "</style>\n",
       "<table border=\"1\" class=\"dataframe\">\n",
       "  <thead>\n",
       "    <tr style=\"text-align: right;\">\n",
       "      <th></th>\n",
       "      <th>series_or_movie_name</th>\n",
       "      <th>encrypted_customer_id</th>\n",
       "      <th>offer_group_desc</th>\n",
       "      <th>first_genre</th>\n",
       "      <th>entity_type</th>\n",
       "      <th>content_age</th>\n",
       "      <th>really_frist_stream</th>\n",
       "      <th>transaction_date_local</th>\n",
       "      <th>display_price</th>\n",
       "    </tr>\n",
       "  </thead>\n",
       "  <tbody>\n",
       "    <tr>\n",
       "      <th>92</th>\n",
       "      <td>Unforgettable</td>\n",
       "      <td>A2RKGDNWQLTS3L</td>\n",
       "      <td>PRIME</td>\n",
       "      <td>crime</td>\n",
       "      <td>TV Show</td>\n",
       "      <td>NaN</td>\n",
       "      <td>2015-09-26</td>\n",
       "      <td>NaN</td>\n",
       "      <td>NaN</td>\n",
       "    </tr>\n",
       "    <tr>\n",
       "      <th>156</th>\n",
       "      <td>KÃ¶nigin der WÃ¼ste [dt./OV]</td>\n",
       "      <td>A5NXSHULCUMPO</td>\n",
       "      <td>PRIME</td>\n",
       "      <td>biography</td>\n",
       "      <td>Movie</td>\n",
       "      <td>NaN</td>\n",
       "      <td>2017-11-12</td>\n",
       "      <td>NaN</td>\n",
       "      <td>NaN</td>\n",
       "    </tr>\n",
       "    <tr>\n",
       "      <th>192</th>\n",
       "      <td>Ashby [dt./OV]</td>\n",
       "      <td>A2CQOQSMV34PBS</td>\n",
       "      <td>PRIME</td>\n",
       "      <td>comedy</td>\n",
       "      <td>Movie</td>\n",
       "      <td>NaN</td>\n",
       "      <td>2016-06-22</td>\n",
       "      <td>NaN</td>\n",
       "      <td>NaN</td>\n",
       "    </tr>\n",
       "    <tr>\n",
       "      <th>229</th>\n",
       "      <td>Magic Mike [dt./OV]</td>\n",
       "      <td>A12I03Q3SPPW7A</td>\n",
       "      <td>PRIME</td>\n",
       "      <td>comedy</td>\n",
       "      <td>Movie</td>\n",
       "      <td>NaN</td>\n",
       "      <td>2017-07-01</td>\n",
       "      <td>NaN</td>\n",
       "      <td>NaN</td>\n",
       "    </tr>\n",
       "    <tr>\n",
       "      <th>255</th>\n",
       "      <td>Alien: Covenant [dt./OV]</td>\n",
       "      <td>A3BO04J9XF4KWH</td>\n",
       "      <td>RENTAL</td>\n",
       "      <td>horror</td>\n",
       "      <td>Movie</td>\n",
       "      <td>New Release</td>\n",
       "      <td>2017-09-28</td>\n",
       "      <td>2017-09-28</td>\n",
       "      <td>4.99</td>\n",
       "    </tr>\n",
       "  </tbody>\n",
       "</table>\n",
       "</div>"
      ],
      "text/plain": [
       "             series_or_movie_name encrypted_customer_id offer_group_desc  \\\n",
       "92                  Unforgettable        A2RKGDNWQLTS3L            PRIME   \n",
       "156  KÃ¶nigin der WÃ¼ste [dt./OV]         A5NXSHULCUMPO            PRIME   \n",
       "192                Ashby [dt./OV]        A2CQOQSMV34PBS            PRIME   \n",
       "229           Magic Mike [dt./OV]        A12I03Q3SPPW7A            PRIME   \n",
       "255      Alien: Covenant [dt./OV]        A3BO04J9XF4KWH           RENTAL   \n",
       "\n",
       "    first_genre entity_type  content_age really_frist_stream  \\\n",
       "92        crime     TV Show          NaN          2015-09-26   \n",
       "156   biography       Movie          NaN          2017-11-12   \n",
       "192      comedy       Movie          NaN          2016-06-22   \n",
       "229      comedy       Movie          NaN          2017-07-01   \n",
       "255      horror       Movie  New Release          2017-09-28   \n",
       "\n",
       "    transaction_date_local  display_price  \n",
       "92                     NaN            NaN  \n",
       "156                    NaN            NaN  \n",
       "192                    NaN            NaN  \n",
       "229                    NaN            NaN  \n",
       "255             2017-09-28           4.99  "
      ]
     },
     "execution_count": 78,
     "metadata": {},
     "output_type": "execute_result"
    }
   ],
   "source": [
    "print(sample_df.shape)\n",
    "sample_df.head()"
   ]
  },
  {
   "cell_type": "code",
   "execution_count": 79,
   "metadata": {},
   "outputs": [
    {
     "data": {
      "text/plain": [
       "array(['crime', 'biography', 'comedy', 'horror', 'action', 'drama', nan,\n",
       "       'adventure', 'animation', 'mystery', 'thriller', 'romance',\n",
       "       'documentary', 'western', 'fantasy', 'sci_fi', 'family', 'music',\n",
       "       'adult', 'musical', 'short', 'history', 'sport', 'war',\n",
       "       'reality_tv', 'film_noir', 'talk_show', 'news'], dtype=object)"
      ]
     },
     "execution_count": 79,
     "metadata": {},
     "output_type": "execute_result"
    }
   ],
   "source": [
    "sample_df['first_genre'].unique()"
   ]
  },
  {
   "cell_type": "code",
   "execution_count": 80,
   "metadata": {},
   "outputs": [
    {
     "data": {
      "text/plain": [
       "array(['TV Show', 'Movie', 'Educational', 'Live Sporting Event UX 1',\n",
       "       'Short Film', nan, 'Default', 'Concert/Performance', 'Clip',\n",
       "       'News and Commentary', 'Ambient', 'Other', 'Sporting Event',\n",
       "       'Review', 'Music Video', 'Interview', 'Live Sporting Event UX 2'], dtype=object)"
      ]
     },
     "execution_count": 80,
     "metadata": {},
     "output_type": "execute_result"
    }
   ],
   "source": [
    "sample_df['entity_type'].unique()"
   ]
  },
  {
   "cell_type": "code",
   "execution_count": 81,
   "metadata": {},
   "outputs": [
    {
     "data": {
      "text/plain": [
       "array(['PRIME', 'RENTAL', 'PURCHASE'], dtype=object)"
      ]
     },
     "execution_count": 81,
     "metadata": {},
     "output_type": "execute_result"
    }
   ],
   "source": [
    "sample_df['offer_group_desc'].unique()"
   ]
  },
  {
   "cell_type": "markdown",
   "metadata": {},
   "source": [
    "# Construct nodes and edges"
   ]
  },
  {
   "cell_type": "code",
   "execution_count": 82,
   "metadata": {
    "collapsed": true
   },
   "outputs": [],
   "source": [
    "nodereader = sample_df[['series_or_movie_name','offer_group_desc','first_genre','entity_type','content_age']]"
   ]
  },
  {
   "cell_type": "code",
   "execution_count": 83,
   "metadata": {
    "collapsed": true
   },
   "outputs": [],
   "source": [
    "edgereader = sample_df[['series_or_movie_name','encrypted_customer_id']]\n",
    "edgereader.columns = ['source','target']"
   ]
  },
  {
   "cell_type": "code",
   "execution_count": 84,
   "metadata": {},
   "outputs": [
    {
     "data": {
      "text/html": [
       "<div>\n",
       "<style>\n",
       "    .dataframe thead tr:only-child th {\n",
       "        text-align: right;\n",
       "    }\n",
       "\n",
       "    .dataframe thead th {\n",
       "        text-align: left;\n",
       "    }\n",
       "\n",
       "    .dataframe tbody tr th {\n",
       "        vertical-align: top;\n",
       "    }\n",
       "</style>\n",
       "<table border=\"1\" class=\"dataframe\">\n",
       "  <thead>\n",
       "    <tr style=\"text-align: right;\">\n",
       "      <th></th>\n",
       "      <th>series_or_movie_name</th>\n",
       "      <th>offer_group_desc</th>\n",
       "      <th>first_genre</th>\n",
       "      <th>entity_type</th>\n",
       "      <th>content_age</th>\n",
       "    </tr>\n",
       "  </thead>\n",
       "  <tbody>\n",
       "    <tr>\n",
       "      <th>92</th>\n",
       "      <td>Unforgettable</td>\n",
       "      <td>PRIME</td>\n",
       "      <td>crime</td>\n",
       "      <td>TV Show</td>\n",
       "      <td>NaN</td>\n",
       "    </tr>\n",
       "    <tr>\n",
       "      <th>156</th>\n",
       "      <td>KÃ¶nigin der WÃ¼ste [dt./OV]</td>\n",
       "      <td>PRIME</td>\n",
       "      <td>biography</td>\n",
       "      <td>Movie</td>\n",
       "      <td>NaN</td>\n",
       "    </tr>\n",
       "    <tr>\n",
       "      <th>192</th>\n",
       "      <td>Ashby [dt./OV]</td>\n",
       "      <td>PRIME</td>\n",
       "      <td>comedy</td>\n",
       "      <td>Movie</td>\n",
       "      <td>NaN</td>\n",
       "    </tr>\n",
       "    <tr>\n",
       "      <th>229</th>\n",
       "      <td>Magic Mike [dt./OV]</td>\n",
       "      <td>PRIME</td>\n",
       "      <td>comedy</td>\n",
       "      <td>Movie</td>\n",
       "      <td>NaN</td>\n",
       "    </tr>\n",
       "    <tr>\n",
       "      <th>255</th>\n",
       "      <td>Alien: Covenant [dt./OV]</td>\n",
       "      <td>RENTAL</td>\n",
       "      <td>horror</td>\n",
       "      <td>Movie</td>\n",
       "      <td>New Release</td>\n",
       "    </tr>\n",
       "  </tbody>\n",
       "</table>\n",
       "</div>"
      ],
      "text/plain": [
       "             series_or_movie_name offer_group_desc first_genre entity_type  \\\n",
       "92                  Unforgettable            PRIME       crime     TV Show   \n",
       "156  KÃ¶nigin der WÃ¼ste [dt./OV]            PRIME   biography       Movie   \n",
       "192                Ashby [dt./OV]            PRIME      comedy       Movie   \n",
       "229           Magic Mike [dt./OV]            PRIME      comedy       Movie   \n",
       "255      Alien: Covenant [dt./OV]           RENTAL      horror       Movie   \n",
       "\n",
       "     content_age  \n",
       "92           NaN  \n",
       "156          NaN  \n",
       "192          NaN  \n",
       "229          NaN  \n",
       "255  New Release  "
      ]
     },
     "execution_count": 84,
     "metadata": {},
     "output_type": "execute_result"
    }
   ],
   "source": [
    "nodereader.head()"
   ]
  },
  {
   "cell_type": "code",
   "execution_count": 85,
   "metadata": {},
   "outputs": [
    {
     "data": {
      "text/html": [
       "<div>\n",
       "<style>\n",
       "    .dataframe thead tr:only-child th {\n",
       "        text-align: right;\n",
       "    }\n",
       "\n",
       "    .dataframe thead th {\n",
       "        text-align: left;\n",
       "    }\n",
       "\n",
       "    .dataframe tbody tr th {\n",
       "        vertical-align: top;\n",
       "    }\n",
       "</style>\n",
       "<table border=\"1\" class=\"dataframe\">\n",
       "  <thead>\n",
       "    <tr style=\"text-align: right;\">\n",
       "      <th></th>\n",
       "      <th>source</th>\n",
       "      <th>target</th>\n",
       "    </tr>\n",
       "  </thead>\n",
       "  <tbody>\n",
       "    <tr>\n",
       "      <th>92</th>\n",
       "      <td>Unforgettable</td>\n",
       "      <td>A2RKGDNWQLTS3L</td>\n",
       "    </tr>\n",
       "    <tr>\n",
       "      <th>156</th>\n",
       "      <td>KÃ¶nigin der WÃ¼ste [dt./OV]</td>\n",
       "      <td>A5NXSHULCUMPO</td>\n",
       "    </tr>\n",
       "    <tr>\n",
       "      <th>192</th>\n",
       "      <td>Ashby [dt./OV]</td>\n",
       "      <td>A2CQOQSMV34PBS</td>\n",
       "    </tr>\n",
       "    <tr>\n",
       "      <th>229</th>\n",
       "      <td>Magic Mike [dt./OV]</td>\n",
       "      <td>A12I03Q3SPPW7A</td>\n",
       "    </tr>\n",
       "    <tr>\n",
       "      <th>255</th>\n",
       "      <td>Alien: Covenant [dt./OV]</td>\n",
       "      <td>A3BO04J9XF4KWH</td>\n",
       "    </tr>\n",
       "  </tbody>\n",
       "</table>\n",
       "</div>"
      ],
      "text/plain": [
       "                           source          target\n",
       "92                  Unforgettable  A2RKGDNWQLTS3L\n",
       "156  KÃ¶nigin der WÃ¼ste [dt./OV]   A5NXSHULCUMPO\n",
       "192                Ashby [dt./OV]  A2CQOQSMV34PBS\n",
       "229           Magic Mike [dt./OV]  A12I03Q3SPPW7A\n",
       "255      Alien: Covenant [dt./OV]  A3BO04J9XF4KWH"
      ]
     },
     "execution_count": 85,
     "metadata": {},
     "output_type": "execute_result"
    }
   ],
   "source": [
    "edgereader.head()"
   ]
  },
  {
   "cell_type": "markdown",
   "metadata": {},
   "source": [
    "# Import networkx"
   ]
  },
  {
   "cell_type": "code",
   "execution_count": 86,
   "metadata": {
    "collapsed": true
   },
   "outputs": [],
   "source": [
    "import networkx as nx\n",
    "\n",
    "from operator import itemgetter\n",
    "import community"
   ]
  },
  {
   "cell_type": "code",
   "execution_count": 87,
   "metadata": {
    "collapsed": true
   },
   "outputs": [],
   "source": [
    "node_names = [i for i in nodereader.iloc[:,0]]"
   ]
  },
  {
   "cell_type": "code",
   "execution_count": 88,
   "metadata": {},
   "outputs": [
    {
     "data": {
      "text/plain": [
       "['Unforgettable',\n",
       " 'KÃ¶nigin der WÃ¼ste [dt./OV]',\n",
       " 'Ashby [dt./OV]',\n",
       " 'Magic Mike [dt./OV]',\n",
       " 'Alien: Covenant [dt./OV]']"
      ]
     },
     "execution_count": 88,
     "metadata": {},
     "output_type": "execute_result"
    }
   ],
   "source": [
    "node_names[0:5]"
   ]
  },
  {
   "cell_type": "code",
   "execution_count": 89,
   "metadata": {
    "collapsed": true
   },
   "outputs": [],
   "source": [
    "edges = list(zip(edgereader.source, edgereader.target)) #create tuple for every pair from the dataset"
   ]
  },
  {
   "cell_type": "code",
   "execution_count": 90,
   "metadata": {},
   "outputs": [
    {
     "name": "stdout",
     "output_type": "stream",
     "text": [
      "211037\n",
      "211037\n"
     ]
    }
   ],
   "source": [
    "print(len(node_names))\n",
    "print(len(edges))"
   ]
  },
  {
   "cell_type": "markdown",
   "metadata": {},
   "source": [
    "# Basics of NetworkX: Creating the Graph"
   ]
  },
  {
   "cell_type": "code",
   "execution_count": 91,
   "metadata": {
    "collapsed": true
   },
   "outputs": [],
   "source": [
    "G = nx.Graph() #creates empty graph, initiliasize a graph object\n",
    "\n",
    "#Add list of nodes and edges\n",
    "G.add_nodes_from(node_names)\n",
    "G.add_edges_from(edges)"
   ]
  },
  {
   "cell_type": "code",
   "execution_count": 92,
   "metadata": {},
   "outputs": [
    {
     "name": "stdout",
     "output_type": "stream",
     "text": [
      "Name: \n",
      "Type: Graph\n",
      "Number of nodes: 13332\n",
      "Number of edges: 206202\n",
      "Average degree:  30.9334\n"
     ]
    }
   ],
   "source": [
    "print(nx.info(G)) #print basic info about the newly create graph"
   ]
  },
  {
   "cell_type": "markdown",
   "metadata": {},
   "source": [
    "# Adding attributes"
   ]
  },
  {
   "cell_type": "code",
   "execution_count": 93,
   "metadata": {
    "collapsed": true
   },
   "outputs": [],
   "source": [
    "#initialize empty dictionaries\n",
    "\n",
    "offer_group_desc_dict = {}\n",
    "first_genre_dict = {}\n",
    "entity_type_dict = {}"
   ]
  },
  {
   "cell_type": "code",
   "execution_count": 94,
   "metadata": {
    "collapsed": true
   },
   "outputs": [],
   "source": [
    "#Make nodes generator, i.e. convert each row of dataframe into a list\n",
    "nodes = nodereader.values.tolist() "
   ]
  },
  {
   "cell_type": "code",
   "execution_count": 95,
   "metadata": {},
   "outputs": [
    {
     "data": {
      "text/plain": [
       "[['Unforgettable', 'PRIME', 'crime', 'TV Show', nan],\n",
       " ['KÃ¶nigin der WÃ¼ste [dt./OV]', 'PRIME', 'biography', 'Movie', nan],\n",
       " ['Ashby [dt./OV]', 'PRIME', 'comedy', 'Movie', nan],\n",
       " ['Magic Mike [dt./OV]', 'PRIME', 'comedy', 'Movie', nan]]"
      ]
     },
     "execution_count": 95,
     "metadata": {},
     "output_type": "execute_result"
    }
   ],
   "source": [
    "nodes[0:4]"
   ]
  },
  {
   "cell_type": "code",
   "execution_count": 96,
   "metadata": {
    "collapsed": true
   },
   "outputs": [],
   "source": [
    "for node in nodes:\n",
    "    offer_group_desc_dict[node[0]] = node[1]\n",
    "    first_genre_dict[node[0]] = node[2]\n",
    "    entity_type_dict[node[0]] = node[3]"
   ]
  },
  {
   "cell_type": "markdown",
   "metadata": {},
   "source": [
    "<p> After having each attribute in a node, add attributes to Graph using set_node_attributes function\n",
    "which takes 3 variables : the graph to which attributes are added , name of the attribute, dict of attributes </p>"
   ]
  },
  {
   "cell_type": "code",
   "execution_count": 97,
   "metadata": {
    "collapsed": true
   },
   "outputs": [],
   "source": [
    "nx.set_node_attributes(G,  offer_group_desc_dict, 'offer_group')\n",
    "nx.set_node_attributes(G, first_genre_dict, 'genre')\n",
    "nx.set_node_attributes(G, entity_type_dict, 'entity_type')"
   ]
  },
  {
   "cell_type": "markdown",
   "metadata": {},
   "source": [
    "<p> Now all nodes have attributes, which can be accessed at any time </p>\n",
    "<p> For example, print all genres of the nodes by looping through them and accessing genre attribute </p>"
   ]
  },
  {
   "cell_type": "code",
   "execution_count": 31,
   "metadata": {
    "collapsed": true
   },
   "outputs": [],
   "source": [
    "# for n in G.nodes():\n",
    "#     print(n, G.node[n]['genre'])"
   ]
  },
  {
   "cell_type": "markdown",
   "metadata": {},
   "source": [
    "# Metrics available in Networkx"
   ]
  },
  {
   "cell_type": "markdown",
   "metadata": {},
   "source": [
    "## Density\n",
    "\n",
    "<p> A good metric to begin with is network density. This is simply the ratio of actual edges in the network to all possible edges in the network. In an undirected network like this one, there could be a single edge between any two nodes, but as you saw in the visualization, only a few of those possible edges are actually present. Network density gives you a quick sense of how closely knit your network is.\n",
    "</p>"
   ]
  },
  {
   "cell_type": "code",
   "execution_count": 98,
   "metadata": {},
   "outputs": [
    {
     "name": "stdout",
     "output_type": "stream",
     "text": [
      "Network density:  0.0023204105723001974\n"
     ]
    }
   ],
   "source": [
    "density = nx.density(G)\n",
    "print(\"Network density: \", density)"
   ]
  },
  {
   "cell_type": "markdown",
   "metadata": {},
   "source": [
    "<p>\n",
    "In this case, the density of our network is quite low. On a scale of 0 to 1, not a very dense network, which comports with what you can see in the visualization.8 A 0 would mean that there are no connections at all, and a 1 would indicate that all possible edges are present (a perfectly connected network): this Quaker network is on the lower end of that scale, but still far from 0.\n",
    "</p>\n",
    "\n",
    "\n",
    "<p> A shortest path measurement is a bit more complex. It calculates the shortest possible series of nodes and edges that stand between any two nodes, something hard to see in large network visualizations. This measure is essentially finding friends-of-friends—if my mother knows someone that I don’t, then mom is the shortest path between me and that person.\n",
    "</p>"
   ]
  },
  {
   "cell_type": "markdown",
   "metadata": {},
   "source": [
    "## Shortest path measurement\n",
    "\n",
    "<p> \n",
    "It calculates the shortest possible series of nodes and edges that stand between any two nodes, something hard to see in large network visualizations. This measure is essentially finding friends-of-friends—if my mother knows someone that I don’t, then mom is the shortest path between me and that person.\n",
    "</p>\n",
    "\n",
    "\n",
    "<p> \n",
    "To calculate a shortest path, you’ll need to pass several input variables (information you give to a Python function): the whole graph, your source node, and your target node. </p>"
   ]
  },
  {
   "cell_type": "code",
   "execution_count": 101,
   "metadata": {},
   "outputs": [],
   "source": [
    "#mission_impossible_path = nx.shortest_path(G, source=\"Mission: Impossible - Rogue Nation [dt./OV]\",\n",
    "#                                       target=\"A2Y5MIXLAKE8B4\")\n",
    "\n",
    "#print(\"Shortest path between Mission Impossible and customer:\", mission_impossible_path)"
   ]
  },
  {
   "cell_type": "markdown",
   "metadata": {},
   "source": [
    "## Triadic closure\n",
    "\n",
    "<p> The final structural calculation you will make on this network concerns the concept of triadic closure. Triadic closure supposes that if two people know the same person, they are likely to know each other. If C knows both A and B, then B and A may very well know each other, completing a triangle in the visualization of three edges connecting A, B, and C. The number of these enclosed triangles in the network can be used to find clusters and communities of individuals that all know each other fairly well.\n",
    "</p>\n",
    "\n",
    "<p> \n",
    "One way of measuring triadic closure is called clustering coefficient because of this clustering tendency, but the structural network measure you will learn is known as transitivity.11 Transitivity is the ratio of all triangles over all possible triangles. A possible triangle exists when one person (C) knows two people (A and B). So transitivity, like density, expresses how interconnected a graph is in terms of a ratio of actual over possible connections. Remember, measurements like transitivity and density concern likelihoods rather than certainties. All the outputs of your Python script must be interpreted, like any other object of research. Transitivity allows you a way of thinking about all the relationships in your graph that may exist but currently do not.</p>"
   ]
  },
  {
   "cell_type": "code",
   "execution_count": 102,
   "metadata": {},
   "outputs": [
    {
     "name": "stdout",
     "output_type": "stream",
     "text": [
      "Triadic closure: 0\n"
     ]
    }
   ],
   "source": [
    "triadic_closure = nx.transitivity(G)\n",
    "print(\"Triadic closure:\", triadic_closure)"
   ]
  },
  {
   "cell_type": "markdown",
   "metadata": {},
   "source": [
    "## Centrality\n",
    "\n",
    "<p> \n",
    "After getting some basic measures of the entire network structure, a good next step is to find which nodes are the most important ones in your network. In network analysis, measures of the importance of nodes are referred to as centrality measures. Because there are many ways of approaching the question “Which nodes are the most important?” there are many different ways of calculating centrality. Here you’ll learn about three of the most common centrality measures: degree, betweenness centrality, and eigenvector centrality.</p>\n",
    "\n",
    "<p> \n",
    "Degree is the simplest and the most common way of finding important nodes. A node’s degree is the sum of its edges. If a node has three lines extending from it to other nodes, its degree is three. Five edges, its degree is five. It’s really that simple. Since each of those edges will always have a node on the other end, you might think of degree as the number of people to which a given person is directly connected. The nodes with the highest degree in a social network are the people who know the most people. These nodes are often referred to as hubs, and calculating degree is the quickest way of identifying hubs.</p>\n",
    "\n",
    "<p> \n",
    "Calculating centrality for each node in NetworkX is not quite as simple as the network-wide metrics above, but it still involves one-line commands. All of the centrality commands you’ll learn in this section produce dictionaries in which the keys are nodes and the values are centrality measures. That means they’re ready-made to add back into your network as a node attribute, like you did in the last section. Start by calculating degree and adding it as an attribute to your network.</p>"
   ]
  },
  {
   "cell_type": "code",
   "execution_count": 103,
   "metadata": {
    "collapsed": true
   },
   "outputs": [],
   "source": [
    "degree_dict = dict(G.degree(G.nodes()))\n",
    "nx.set_node_attributes(G, degree_dict, 'degree')"
   ]
  },
  {
   "cell_type": "markdown",
   "metadata": {},
   "source": [
    "<p> Since you’re already in Python, you can sort and compare them. You can use the built-in function sorted() to sort a dictionary by its keys or values and find the top twenty nodes ranked by degree. To do this you’ll need to use itemgetter, which we imported back at the beginning of the tutorial. Using sorted and itemgetter, you can sort the dictionary of degrees like this: </p>"
   ]
  },
  {
   "cell_type": "code",
   "execution_count": 104,
   "metadata": {
    "collapsed": true
   },
   "outputs": [],
   "source": [
    "sorted_degree = sorted(degree_dict.items(), key=itemgetter(1), reverse=True)"
   ]
  },
  {
   "cell_type": "markdown",
   "metadata": {},
   "source": [
    "<p> There’s a lot going on behind the scenes here, but just concentrate on the three input variables you gave to sorted(). The first is the dictionary, degree_dict.items(), you want to sort. The second is what to sort by: in this case, item “1” is the second item in the pair, or the value of your dictionary. Finally, you tell sorted() to go in reverse so that the highest degree nodes will be first in the resulting list. Once you’ve created this sorted list, you can loop through it, and use list slicing3 to get only the first 10 nodes:\n",
    "</p>"
   ]
  },
  {
   "cell_type": "code",
   "execution_count": 105,
   "metadata": {},
   "outputs": [
    {
     "data": {
      "text/plain": [
       "[('AW2WS61CEG9KS', 2025),\n",
       " ('A3LOBPOUT4WHCJ', 1938),\n",
       " ('A29N9NB8M8IDOL', 1476),\n",
       " ('A1J9HH17090ZWJ', 1408),\n",
       " ('A3B94VKCIETZIS', 1095),\n",
       " ('A3R9AWXLIOEMEB', 1084),\n",
       " ('A3LK99GFXS8SAH', 1006),\n",
       " ('A217O7RDQY6707', 1005),\n",
       " ('A2JBS3RPT95Y5K', 999),\n",
       " ('A2MI2QF6R97APD', 980),\n",
       " ('A31R1HI2BHK6XV', 978),\n",
       " ('A3XZPPONNRE1G', 968),\n",
       " ('AH0GBMUNY3L6I', 966),\n",
       " ('A18C8DMG8LGAQK', 953),\n",
       " ('A1PWFZMF1M4RM1', 884),\n",
       " ('A2UPWZ58O0EVJZ', 882),\n",
       " ('A1B4S6RWZGSMKD', 879),\n",
       " ('A2W9OBBI7KTWD5', 863),\n",
       " ('AED7E0V4S26CP', 850),\n",
       " ('A1TSR4VWF1UHAK', 844)]"
      ]
     },
     "execution_count": 105,
     "metadata": {},
     "output_type": "execute_result"
    }
   ],
   "source": [
    "sorted_degree[0:20]"
   ]
  },
  {
   "cell_type": "markdown",
   "metadata": {},
   "source": [
    "<p> Most social networks will have just a few hubs of very high degree, with the rest of similar, much lower degree. \n",
    "Degree can tell you about the biggest hubs, but it can’t tell you that much about the rest of the nodes. And in many cases, those hubs it’s telling you about are not especially surprising. </p>\n",
    "\n",
    "\n",
    "<p> \n",
    "Thankfully there are other centrality measures that can tell you about more than just hubs. Eigenvector centrality is a kind of extension of degree—it looks at a combination of a node’s edges and the edges of that node’s neighbors. Eigenvector centrality cares if you are a hub, but it also cares how many hubs you are connected to. It’s calculated as a value from 0 to 1: the closer to one, the greater the centrality. Eigenvector centrality is useful for understanding which nodes can get information to many other nodes quickly. If you know a lot of well-connected people, you could spread a message very efficiently. If you’ve used Google, then you’re already somewhat familiar with Eigenvector centrality. Their PageRank algorithm uses an extension of this formula to decide which webpages get to the top of its search results.</p>\n",
    "\n",
    "\n",
    "<p> \n",
    "Betweenness centrality is a bit different from the other two measures in that it doesn’t care about the number of edges any one node or set of nodes has. Betweenness centrality looks at all the shortest paths that pass through a particular node (see above). To do this, it must first calculate every possible shortest path in your network, so keep in mind that betweenness centrality will take longer to calculate than other centrality measures (but it won’t be an issue in a dataset of this size). Betweenness centrality, which is also expressed on a scale of 0 to 1, is fairly good at finding nodes that connect two otherwise disparate parts of a network. If you’re the only thing connecting two clusters, every communication between those clusters has to pass through you. In contrast to a hub, this sort of node is often referred to as a broker. Betweenness centrality is not the only way of finding brokerage (and other methods are more systematic), but it’s a quick way of giving you a sense of which nodes are important not because they have lots of connections themselves but because they stand between groups, giving the network connectivity and cohesion.</p>"
   ]
  },
  {
   "cell_type": "code",
   "execution_count": null,
   "metadata": {},
   "outputs": [],
   "source": [
    "betweenness_dict = nx.betweenness_centrality(G) # Run betweenness centrality\n",
    "#eigenvector_dict = nx.eigenvector_centrality(G) # Run eigenvector centrality, failed to converge\n",
    "\n",
    "# Assign each to an attribute in your network\n",
    "nx.set_node_attributes(G, betweenness_dict, 'betweenness')\n",
    "#nx.set_node_attributes(G, eigenvector_dict, 'eigenvector')"
   ]
  },
  {
   "cell_type": "code",
   "execution_count": 51,
   "metadata": {
    "collapsed": true
   },
   "outputs": [],
   "source": [
    "sorted_betweenness = sorted(betweenness_dict.items(), key=itemgetter(1), reverse=True)"
   ]
  },
  {
   "cell_type": "code",
   "execution_count": 52,
   "metadata": {},
   "outputs": [
    {
     "data": {
      "text/plain": [
       "[('ATZ1OTW8WZHIW', 0.4072766370077794),\n",
       " ('A2Y5MIXLAKE8B4', 0.3216008825263349),\n",
       " ('A34ZRFKWXBL8Y2', 0.29014995531988697),\n",
       " ('A2716J9WBUOI33', 0.21205499237393158),\n",
       " ('A18XXKP4LZ4V7J', 0.17334583354691535),\n",
       " ('A281KGD1HQ8LCO', 0.15412680400076717),\n",
       " ('A2WYMF249QFYDR', 0.11146965097261535),\n",
       " ('A30BWWHINAW0EF', 0.05941718216131657),\n",
       " ('Die Bestimmung - Allegiant [dt./OV]', 0.016925353269131683),\n",
       " ('The Walking Dead [dt./OV]', 0.01218492285140067)]"
      ]
     },
     "execution_count": 52,
     "metadata": {},
     "output_type": "execute_result"
    }
   ],
   "source": [
    "sorted_betweenness[0:10]"
   ]
  },
  {
   "cell_type": "code",
   "execution_count": 56,
   "metadata": {},
   "outputs": [
    {
     "name": "stdout",
     "output_type": "stream",
     "text": [
      "Name: ATZ1OTW8WZHIW | Betweenness Centrality: 0.4072766370077794 | Degree: 416\n",
      "Name: A2Y5MIXLAKE8B4 | Betweenness Centrality: 0.3216008825263349 | Degree: 327\n",
      "Name: A34ZRFKWXBL8Y2 | Betweenness Centrality: 0.29014995531988697 | Degree: 317\n",
      "Name: A2716J9WBUOI33 | Betweenness Centrality: 0.21205499237393158 | Degree: 231\n",
      "Name: A18XXKP4LZ4V7J | Betweenness Centrality: 0.17334583354691535 | Degree: 181\n",
      "Name: A281KGD1HQ8LCO | Betweenness Centrality: 0.15412680400076717 | Degree: 180\n",
      "Name: A2WYMF249QFYDR | Betweenness Centrality: 0.11146965097261535 | Degree: 143\n",
      "Name: A30BWWHINAW0EF | Betweenness Centrality: 0.05941718216131657 | Degree: 80\n",
      "Name: Die Bestimmung - Allegiant [dt./OV] | Betweenness Centrality: 0.016925353269131683 | Degree: 6\n",
      "Name: The Walking Dead [dt./OV] | Betweenness Centrality: 0.01218492285140067 | Degree: 5\n",
      "Name: Nerve [dt./OV] | Betweenness Centrality: 0.011556427037288325 | Degree: 5\n",
      "Name: The Shannara Chronicles [dt./OV] | Betweenness Centrality: 0.011430597992887925 | Degree: 5\n",
      "Name: Spotlight [dt./OV] | Betweenness Centrality: 0.011302368754047021 | Degree: 5\n",
      "Name: Die Unfassbaren -  Now You See Me | Betweenness Centrality: 0.009306801453592526 | Degree: 4\n",
      "Name: The Man In the High Castle [dt./OV] | Betweenness Centrality: 0.008900736889092627 | Degree: 5\n",
      "Name: American Gods [dt./OV] | Betweenness Centrality: 0.008431123452725092 | Degree: 4\n",
      "Name: Die Bestimmung - Divergent [dt./OV] | Betweenness Centrality: 0.008431123452725092 | Degree: 4\n",
      "Name: Jurassic World [dt./OV] | Betweenness Centrality: 0.00829065470170669 | Degree: 4\n",
      "Name: The Affair [dt./OV] | Betweenness Centrality: 0.007522819525501308 | Degree: 4\n",
      "Name: Taboo [dt./OV] | Betweenness Centrality: 0.007214077121523945 | Degree: 4\n"
     ]
    }
   ],
   "source": [
    "#First get the top 20 nodes by betweenness as a list\n",
    "top_betweenness = sorted_betweenness[:20]\n",
    "\n",
    "#Then find and print their degree\n",
    "for tb in top_betweenness: # Loop through top_betweenness\n",
    "    degree = degree_dict[tb[0]] # Use degree_dict to access a node's degree, see footnote 2\n",
    "    print(\"Name:\", tb[0], \"| Betweenness Centrality:\", tb[1], \"| Degree:\", degree)"
   ]
  },
  {
   "cell_type": "markdown",
   "metadata": {},
   "source": [
    "# Advanced networkx: Community detection with modularity\n",
    "\n",
    "<p> \n",
    "Another common thing to ask about a network dataset is what the subgroups or communities are within the larger social structure. Is your network one big, happy family where everyone knows everyone else? Or is it a collection of smaller subgroups that are only connected by one or two intermediaries? The field of community detection in networks is designed to answer these questions. There are many ways of calculating communities, cliques, and clusters in your network, but the most popular method currently is modularity. Modularity is a measure of relative density in your network: a community (called a module or modularity class) has high density relative to other nodes within its module but low density with those outside. Modularity gives you an overall score of how fractious your network is, and that score can be used to partition the network and return the individual communities</p>\n",
    "\n",
    "<p> \n",
    "Community detection and partitioning in NetworkX requires a little more setup than some of the other metrics. There are some built-in approaches to community detection (like minimum cut, but modularity is not included with NetworkX. Fortunately there’s an additional python module you can use with NetworkX, which you already installed and imported at the beginning of this tutorial. You can read the full documentation for all of the functions it offers, but for most community detection purposes you’ll only want best_partition()\n",
    "</p>"
   ]
  },
  {
   "cell_type": "code",
   "execution_count": null,
   "metadata": {
    "collapsed": true
   },
   "outputs": [],
   "source": [
    "communities = community.best_partition(G)"
   ]
  },
  {
   "cell_type": "markdown",
   "metadata": {},
   "source": [
    "\n",
    "<p> The above code will create a dictionary just like the ones created by centrality functions. best_partition() tries to determine the number of communities appropriate for the graph, and assigns each node a number (starting at 0), corresponding to the community it’s a member of. You can add these values to your network in the now-familiar way: </p>"
   ]
  },
  {
   "cell_type": "code",
   "execution_count": 58,
   "metadata": {
    "collapsed": true
   },
   "outputs": [],
   "source": [
    "nx.set_node_attributes(G, communities,'modularity')"
   ]
  },
  {
   "cell_type": "markdown",
   "metadata": {},
   "source": [
    "<p> In smaller networks like this one, a common task is to find and list all of the modularity classes and their members. You can do this by manipulating the communities dictionary. You’ll need to reverse the keys and values of this dictionary so that the keys are the modularity class numbers and the values are lists of names. You can do so like this: </p>"
   ]
  },
  {
   "cell_type": "code",
   "execution_count": 66,
   "metadata": {},
   "outputs": [
    {
     "name": "stdout",
     "output_type": "stream",
     "text": [
      "Class0: ['Pandemic [dt./OV]', 'Love & Teleportation [OV]']\n",
      "Class1: ['Ich Einfach unverbesserlich 2:  3 Mini-Movies Collection [dt./OV]', 'Die HÃ¼terin der Wahrheit â\\x80\\x94 Dinas Bestimmung']\n",
      "Class2: ['Bergfest', 'The Neighbors']\n",
      "Class3: ['Mission: Impossible - Rogue Nation [dt./OV]', 'Taboo [dt./OV]']\n",
      "Class4: ['Zambezia -  In jedem steckt ein kleiner Held [dt./OV]', 'Housebound [dt./OV]']\n",
      "Class5: ['Chaos [dt./OV]', 'Scooby-Doo: Mystery Incorporated']\n",
      "Class6: ['Full Metal Jacket [dt./OV]', '42 [dt./OV]']\n",
      "Class7: ['Shame [dt./OV]', 'Minions [dt./OV]']\n"
     ]
    }
   ],
   "source": [
    "modularity = {} #creates empty dictionary\n",
    "for k, v in communities.items(): #loop thru the community dict\n",
    "    if v not in modularity:\n",
    "        modularity[v] = [k] #add new key for a modularity class the code has not seen before\n",
    "    else:\n",
    "        modularity[v].append(k) #append a name to the list for a modularity class the code has already seen\n",
    "        \n",
    "for k,v in modularity.items():\n",
    "    if len(v) > 2: #filter out modularity classes with 2 or fewer nodes\n",
    "        print(\"Class\" + str(k) + \":\", v[0:2]) #print the classes and their members"
   ]
  },
  {
   "cell_type": "markdown",
   "metadata": {},
   "source": [
    "<p> Notice in the code above that you are filtering out any modularity classes with two or fewer nodes, in the line if len(v) > 2. You’ll remember from the visualization that there were lots of small components of the network with only two nodes. Modularity will find these components and treat them as separate classes (since they’re not connected to anything else). By filtering them out, you get a better sense of the larger modularity classes within the network’s main component. </p>"
   ]
  },
  {
   "cell_type": "markdown",
   "metadata": {},
   "source": [
    "# Export graph"
   ]
  },
  {
   "cell_type": "code",
   "execution_count": 65,
   "metadata": {
    "collapsed": true
   },
   "outputs": [],
   "source": [
    "nx.write_gexf(G, 'sample_movies.gexf')"
   ]
  }
 ],
 "metadata": {
  "kernelspec": {
   "display_name": "Python 3",
   "language": "python",
   "name": "python3"
  },
  "language_info": {
   "codemirror_mode": {
    "name": "ipython",
    "version": 3
   },
   "file_extension": ".py",
   "mimetype": "text/x-python",
   "name": "python",
   "nbconvert_exporter": "python",
   "pygments_lexer": "ipython3",
   "version": "3.6.3"
  }
 },
 "nbformat": 4,
 "nbformat_minor": 2
}
