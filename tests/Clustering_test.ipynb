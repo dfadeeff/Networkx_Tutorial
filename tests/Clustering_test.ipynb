{
 "cells": [
  {
   "cell_type": "code",
   "execution_count": 103,
   "metadata": {
    "collapsed": true
   },
   "outputs": [],
   "source": [
    "import pandas as pd\n",
    "import numpy as np\n",
    "import matplotlib.pyplot as plt\n",
    "%matplotlib inline"
   ]
  },
  {
   "cell_type": "markdown",
   "metadata": {},
   "source": [
    "# This analysis used Graph theory to explore complex relationships\n",
    "\n",
    "\n",
    "<p> It litereally follows every step of the tutorial \n",
    "http://programminghistorian.github.io/ph-submissions/lessons/published/exploring-and-analyzing-network-data-with-python\n",
    "</p>"
   ]
  },
  {
   "cell_type": "code",
   "execution_count": 43,
   "metadata": {},
   "outputs": [],
   "source": [
    "df = pd.read_csv(\"Z:00_ETL/CustomerBehaviour/rawdata2.txt\", sep = \"\\t\", encoding = \"ISO-8859-1\")"
   ]
  },
  {
   "cell_type": "code",
   "execution_count": 44,
   "metadata": {},
   "outputs": [
    {
     "name": "stdout",
     "output_type": "stream",
     "text": [
      "(15695999, 9)\n"
     ]
    },
    {
     "data": {
      "text/html": [
       "<div>\n",
       "<style>\n",
       "    .dataframe thead tr:only-child th {\n",
       "        text-align: right;\n",
       "    }\n",
       "\n",
       "    .dataframe thead th {\n",
       "        text-align: left;\n",
       "    }\n",
       "\n",
       "    .dataframe tbody tr th {\n",
       "        vertical-align: top;\n",
       "    }\n",
       "</style>\n",
       "<table border=\"1\" class=\"dataframe\">\n",
       "  <thead>\n",
       "    <tr style=\"text-align: right;\">\n",
       "      <th></th>\n",
       "      <th>series_or_movie_name</th>\n",
       "      <th>encrypted_customer_id</th>\n",
       "      <th>offer_group_desc</th>\n",
       "      <th>first_genre</th>\n",
       "      <th>entity_type</th>\n",
       "      <th>content_age</th>\n",
       "      <th>really_frist_stream</th>\n",
       "      <th>transaction_date_local</th>\n",
       "      <th>display_price</th>\n",
       "    </tr>\n",
       "  </thead>\n",
       "  <tbody>\n",
       "    <tr>\n",
       "      <th>15695994</th>\n",
       "      <td>Royal Pains [dt./OV]</td>\n",
       "      <td>AWHGX01JJFP1A</td>\n",
       "      <td>PRIME</td>\n",
       "      <td>comedy</td>\n",
       "      <td>TV Show</td>\n",
       "      <td>NaN</td>\n",
       "      <td>2016-10-01</td>\n",
       "      <td>NaN</td>\n",
       "      <td>NaN</td>\n",
       "    </tr>\n",
       "    <tr>\n",
       "      <th>15695995</th>\n",
       "      <td>Cloverfield [dt./OV]</td>\n",
       "      <td>AXNCSJSOYNU7Q</td>\n",
       "      <td>PRIME</td>\n",
       "      <td>action</td>\n",
       "      <td>Movie</td>\n",
       "      <td>NaN</td>\n",
       "      <td>2015-11-14</td>\n",
       "      <td>NaN</td>\n",
       "      <td>NaN</td>\n",
       "    </tr>\n",
       "    <tr>\n",
       "      <th>15695996</th>\n",
       "      <td>Mamma Mia! - Der Film [dt./OV]</td>\n",
       "      <td>AXNCSJSOYNU7Q</td>\n",
       "      <td>PRIME</td>\n",
       "      <td>comedy</td>\n",
       "      <td>Movie</td>\n",
       "      <td>NaN</td>\n",
       "      <td>2017-12-23</td>\n",
       "      <td>NaN</td>\n",
       "      <td>NaN</td>\n",
       "    </tr>\n",
       "    <tr>\n",
       "      <th>15695997</th>\n",
       "      <td>Walhalla Rising</td>\n",
       "      <td>AY4FUNR962OYO</td>\n",
       "      <td>PRIME</td>\n",
       "      <td>adventure</td>\n",
       "      <td>Movie</td>\n",
       "      <td>NaN</td>\n",
       "      <td>2014-12-21</td>\n",
       "      <td>NaN</td>\n",
       "      <td>NaN</td>\n",
       "    </tr>\n",
       "    <tr>\n",
       "      <th>15695998</th>\n",
       "      <td>The Zero Theorem [dt./OV]</td>\n",
       "      <td>AYYHG5BNPF7M5</td>\n",
       "      <td>PRIME</td>\n",
       "      <td>comedy</td>\n",
       "      <td>Movie</td>\n",
       "      <td>NaN</td>\n",
       "      <td>2016-12-08</td>\n",
       "      <td>NaN</td>\n",
       "      <td>NaN</td>\n",
       "    </tr>\n",
       "  </tbody>\n",
       "</table>\n",
       "</div>"
      ],
      "text/plain": [
       "                    series_or_movie_name encrypted_customer_id  \\\n",
       "15695994            Royal Pains [dt./OV]         AWHGX01JJFP1A   \n",
       "15695995            Cloverfield [dt./OV]         AXNCSJSOYNU7Q   \n",
       "15695996  Mamma Mia! - Der Film [dt./OV]         AXNCSJSOYNU7Q   \n",
       "15695997                 Walhalla Rising         AY4FUNR962OYO   \n",
       "15695998       The Zero Theorem [dt./OV]         AYYHG5BNPF7M5   \n",
       "\n",
       "         offer_group_desc first_genre entity_type content_age  \\\n",
       "15695994            PRIME      comedy     TV Show         NaN   \n",
       "15695995            PRIME      action       Movie         NaN   \n",
       "15695996            PRIME      comedy       Movie         NaN   \n",
       "15695997            PRIME   adventure       Movie         NaN   \n",
       "15695998            PRIME      comedy       Movie         NaN   \n",
       "\n",
       "         really_frist_stream transaction_date_local  display_price  \n",
       "15695994          2016-10-01                    NaN            NaN  \n",
       "15695995          2015-11-14                    NaN            NaN  \n",
       "15695996          2017-12-23                    NaN            NaN  \n",
       "15695997          2014-12-21                    NaN            NaN  \n",
       "15695998          2016-12-08                    NaN            NaN  "
      ]
     },
     "execution_count": 44,
     "metadata": {},
     "output_type": "execute_result"
    }
   ],
   "source": [
    "print(df.shape)\n",
    "df.tail()"
   ]
  },
  {
   "cell_type": "code",
   "execution_count": 45,
   "metadata": {},
   "outputs": [
    {
     "data": {
      "text/plain": [
       "184163"
      ]
     },
     "execution_count": 45,
     "metadata": {},
     "output_type": "execute_result"
    }
   ],
   "source": [
    "df['encrypted_customer_id'].nunique()"
   ]
  },
  {
   "cell_type": "code",
   "execution_count": 46,
   "metadata": {},
   "outputs": [
    {
     "data": {
      "text/plain": [
       "36856"
      ]
     },
     "execution_count": 46,
     "metadata": {},
     "output_type": "execute_result"
    }
   ],
   "source": [
    "df['series_or_movie_name'].nunique()"
   ]
  },
  {
   "cell_type": "markdown",
   "metadata": {},
   "source": [
    "# Take sample to create toy sample"
   ]
  },
  {
   "cell_type": "code",
   "execution_count": 47,
   "metadata": {
    "collapsed": true
   },
   "outputs": [],
   "source": [
    "toy = df.sample(frac=0.0000005)"
   ]
  },
  {
   "cell_type": "code",
   "execution_count": 48,
   "metadata": {},
   "outputs": [
    {
     "data": {
      "text/html": [
       "<div>\n",
       "<style>\n",
       "    .dataframe thead tr:only-child th {\n",
       "        text-align: right;\n",
       "    }\n",
       "\n",
       "    .dataframe thead th {\n",
       "        text-align: left;\n",
       "    }\n",
       "\n",
       "    .dataframe tbody tr th {\n",
       "        vertical-align: top;\n",
       "    }\n",
       "</style>\n",
       "<table border=\"1\" class=\"dataframe\">\n",
       "  <thead>\n",
       "    <tr style=\"text-align: right;\">\n",
       "      <th></th>\n",
       "      <th>series_or_movie_name</th>\n",
       "      <th>encrypted_customer_id</th>\n",
       "      <th>offer_group_desc</th>\n",
       "      <th>first_genre</th>\n",
       "      <th>entity_type</th>\n",
       "      <th>content_age</th>\n",
       "      <th>really_frist_stream</th>\n",
       "      <th>transaction_date_local</th>\n",
       "      <th>display_price</th>\n",
       "    </tr>\n",
       "  </thead>\n",
       "  <tbody>\n",
       "    <tr>\n",
       "      <th>3237084</th>\n",
       "      <td>MÃ¤rchen aus 1001 Nacht</td>\n",
       "      <td>A13SG7MWO64BMR</td>\n",
       "      <td>PRIME</td>\n",
       "      <td>NaN</td>\n",
       "      <td>Educational</td>\n",
       "      <td>NaN</td>\n",
       "      <td>2018-02-11</td>\n",
       "      <td>NaN</td>\n",
       "      <td>NaN</td>\n",
       "    </tr>\n",
       "    <tr>\n",
       "      <th>3265432</th>\n",
       "      <td>ErlÃ¶se Uns Von Dem BÃ¶sen [dt./OV]</td>\n",
       "      <td>AMTRBK7UL7LOJ</td>\n",
       "      <td>PRIME</td>\n",
       "      <td>horror</td>\n",
       "      <td>Movie</td>\n",
       "      <td>NaN</td>\n",
       "      <td>2016-05-31</td>\n",
       "      <td>NaN</td>\n",
       "      <td>NaN</td>\n",
       "    </tr>\n",
       "    <tr>\n",
       "      <th>15090367</th>\n",
       "      <td>Roast of Charlie Sheen</td>\n",
       "      <td>A3DJP5WPHGPPTU</td>\n",
       "      <td>PRIME</td>\n",
       "      <td>NaN</td>\n",
       "      <td>Movie</td>\n",
       "      <td>NaN</td>\n",
       "      <td>2016-04-09</td>\n",
       "      <td>NaN</td>\n",
       "      <td>NaN</td>\n",
       "    </tr>\n",
       "    <tr>\n",
       "      <th>4773651</th>\n",
       "      <td>The Big Bang Theory</td>\n",
       "      <td>AU3F5QY7FFK5K</td>\n",
       "      <td>PRIME</td>\n",
       "      <td>comedy</td>\n",
       "      <td>TV Show</td>\n",
       "      <td>NaN</td>\n",
       "      <td>2016-11-08</td>\n",
       "      <td>NaN</td>\n",
       "      <td>NaN</td>\n",
       "    </tr>\n",
       "    <tr>\n",
       "      <th>4168563</th>\n",
       "      <td>Chappie [Ultra HD]</td>\n",
       "      <td>A175P34LI5EQPN</td>\n",
       "      <td>PRIME</td>\n",
       "      <td>action</td>\n",
       "      <td>Movie</td>\n",
       "      <td>NaN</td>\n",
       "      <td>2017-01-21</td>\n",
       "      <td>NaN</td>\n",
       "      <td>NaN</td>\n",
       "    </tr>\n",
       "  </tbody>\n",
       "</table>\n",
       "</div>"
      ],
      "text/plain": [
       "                         series_or_movie_name encrypted_customer_id  \\\n",
       "3237084               MÃ¤rchen aus 1001 Nacht        A13SG7MWO64BMR   \n",
       "3265432   ErlÃ¶se Uns Von Dem BÃ¶sen [dt./OV]         AMTRBK7UL7LOJ   \n",
       "15090367               Roast of Charlie Sheen        A3DJP5WPHGPPTU   \n",
       "4773651                   The Big Bang Theory         AU3F5QY7FFK5K   \n",
       "4168563                    Chappie [Ultra HD]        A175P34LI5EQPN   \n",
       "\n",
       "         offer_group_desc first_genre  entity_type content_age  \\\n",
       "3237084             PRIME         NaN  Educational         NaN   \n",
       "3265432             PRIME      horror        Movie         NaN   \n",
       "15090367            PRIME         NaN        Movie         NaN   \n",
       "4773651             PRIME      comedy      TV Show         NaN   \n",
       "4168563             PRIME      action        Movie         NaN   \n",
       "\n",
       "         really_frist_stream transaction_date_local  display_price  \n",
       "3237084           2018-02-11                    NaN            NaN  \n",
       "3265432           2016-05-31                    NaN            NaN  \n",
       "15090367          2016-04-09                    NaN            NaN  \n",
       "4773651           2016-11-08                    NaN            NaN  \n",
       "4168563           2017-01-21                    NaN            NaN  "
      ]
     },
     "execution_count": 48,
     "metadata": {},
     "output_type": "execute_result"
    }
   ],
   "source": [
    "toy.shape\n",
    "toy.head()"
   ]
  },
  {
   "cell_type": "code",
   "execution_count": 49,
   "metadata": {},
   "outputs": [
    {
     "data": {
      "text/plain": [
       "8"
      ]
     },
     "execution_count": 49,
     "metadata": {},
     "output_type": "execute_result"
    }
   ],
   "source": [
    "toy['encrypted_customer_id'].nunique()"
   ]
  },
  {
   "cell_type": "code",
   "execution_count": 50,
   "metadata": {},
   "outputs": [
    {
     "data": {
      "text/plain": [
       "array(['A13SG7MWO64BMR', 'AMTRBK7UL7LOJ', 'A3DJP5WPHGPPTU',\n",
       "       'AU3F5QY7FFK5K', 'A175P34LI5EQPN', 'ADBNTGD91UNT7',\n",
       "       'A1VW6JCW93A34W', 'A12Q3AF8Q7TQ71'], dtype=object)"
      ]
     },
     "execution_count": 50,
     "metadata": {},
     "output_type": "execute_result"
    }
   ],
   "source": [
    "toy['encrypted_customer_id'].unique()"
   ]
  },
  {
   "cell_type": "code",
   "execution_count": 55,
   "metadata": {
    "collapsed": true
   },
   "outputs": [],
   "source": [
    "sample_df = df[df['encrypted_customer_id'].isin(toy['encrypted_customer_id'].unique())]"
   ]
  },
  {
   "cell_type": "code",
   "execution_count": 68,
   "metadata": {},
   "outputs": [
    {
     "data": {
      "text/html": [
       "<div>\n",
       "<style>\n",
       "    .dataframe thead tr:only-child th {\n",
       "        text-align: right;\n",
       "    }\n",
       "\n",
       "    .dataframe thead th {\n",
       "        text-align: left;\n",
       "    }\n",
       "\n",
       "    .dataframe tbody tr th {\n",
       "        vertical-align: top;\n",
       "    }\n",
       "</style>\n",
       "<table border=\"1\" class=\"dataframe\">\n",
       "  <thead>\n",
       "    <tr style=\"text-align: right;\">\n",
       "      <th></th>\n",
       "      <th>series_or_movie_name</th>\n",
       "      <th>encrypted_customer_id</th>\n",
       "      <th>offer_group_desc</th>\n",
       "      <th>first_genre</th>\n",
       "      <th>entity_type</th>\n",
       "      <th>content_age</th>\n",
       "      <th>really_frist_stream</th>\n",
       "      <th>transaction_date_local</th>\n",
       "      <th>display_price</th>\n",
       "    </tr>\n",
       "  </thead>\n",
       "  <tbody>\n",
       "    <tr>\n",
       "      <th>8560</th>\n",
       "      <td>14 Blades</td>\n",
       "      <td>A13SG7MWO64BMR</td>\n",
       "      <td>PRIME</td>\n",
       "      <td>action</td>\n",
       "      <td>Movie</td>\n",
       "      <td>NaN</td>\n",
       "      <td>2015-01-03</td>\n",
       "      <td>NaN</td>\n",
       "      <td>NaN</td>\n",
       "    </tr>\n",
       "    <tr>\n",
       "      <th>8561</th>\n",
       "      <td>Hochzeitsnacht Im Geisterschloss</td>\n",
       "      <td>A13SG7MWO64BMR</td>\n",
       "      <td>PRIME</td>\n",
       "      <td>comedy</td>\n",
       "      <td>Movie</td>\n",
       "      <td>NaN</td>\n",
       "      <td>2016-10-15</td>\n",
       "      <td>NaN</td>\n",
       "      <td>NaN</td>\n",
       "    </tr>\n",
       "    <tr>\n",
       "      <th>10422</th>\n",
       "      <td>Mama Muh und die KrÃ¤he [dt./OV]</td>\n",
       "      <td>A12Q3AF8Q7TQ71</td>\n",
       "      <td>PRIME</td>\n",
       "      <td>animation</td>\n",
       "      <td>Movie</td>\n",
       "      <td>NaN</td>\n",
       "      <td>2016-12-09</td>\n",
       "      <td>NaN</td>\n",
       "      <td>NaN</td>\n",
       "    </tr>\n",
       "    <tr>\n",
       "      <th>32381</th>\n",
       "      <td>Die kleine Raupe Nimmersatt und vier weitere l...</td>\n",
       "      <td>AMTRBK7UL7LOJ</td>\n",
       "      <td>PRIME</td>\n",
       "      <td>NaN</td>\n",
       "      <td>TV Show</td>\n",
       "      <td>NaN</td>\n",
       "      <td>2016-06-05</td>\n",
       "      <td>NaN</td>\n",
       "      <td>NaN</td>\n",
       "    </tr>\n",
       "    <tr>\n",
       "      <th>41778</th>\n",
       "      <td>Die Geier warten schon</td>\n",
       "      <td>A13SG7MWO64BMR</td>\n",
       "      <td>PRIME</td>\n",
       "      <td>western</td>\n",
       "      <td>Movie</td>\n",
       "      <td>NaN</td>\n",
       "      <td>2014-12-05</td>\n",
       "      <td>NaN</td>\n",
       "      <td>NaN</td>\n",
       "    </tr>\n",
       "  </tbody>\n",
       "</table>\n",
       "</div>"
      ],
      "text/plain": [
       "                                    series_or_movie_name  \\\n",
       "8560                                           14 Blades   \n",
       "8561                    Hochzeitsnacht Im Geisterschloss   \n",
       "10422                   Mama Muh und die KrÃ¤he [dt./OV]   \n",
       "32381  Die kleine Raupe Nimmersatt und vier weitere l...   \n",
       "41778                             Die Geier warten schon   \n",
       "\n",
       "      encrypted_customer_id offer_group_desc first_genre entity_type  \\\n",
       "8560         A13SG7MWO64BMR            PRIME      action       Movie   \n",
       "8561         A13SG7MWO64BMR            PRIME      comedy       Movie   \n",
       "10422        A12Q3AF8Q7TQ71            PRIME   animation       Movie   \n",
       "32381         AMTRBK7UL7LOJ            PRIME         NaN     TV Show   \n",
       "41778        A13SG7MWO64BMR            PRIME     western       Movie   \n",
       "\n",
       "      content_age really_frist_stream transaction_date_local  display_price  \n",
       "8560          NaN          2015-01-03                    NaN            NaN  \n",
       "8561          NaN          2016-10-15                    NaN            NaN  \n",
       "10422         NaN          2016-12-09                    NaN            NaN  \n",
       "32381         NaN          2016-06-05                    NaN            NaN  \n",
       "41778         NaN          2014-12-05                    NaN            NaN  "
      ]
     },
     "execution_count": 68,
     "metadata": {},
     "output_type": "execute_result"
    }
   ],
   "source": [
    "sample_df.head()"
   ]
  },
  {
   "cell_type": "code",
   "execution_count": 57,
   "metadata": {},
   "outputs": [
    {
     "data": {
      "text/plain": [
       "array(['action', 'comedy', 'animation', nan, 'western', 'drama', 'crime',\n",
       "       'adventure', 'biography', 'horror', 'family', 'documentary',\n",
       "       'adult', 'mystery', 'fantasy', 'history', 'music', 'romance',\n",
       "       'sci_fi', 'thriller'], dtype=object)"
      ]
     },
     "execution_count": 57,
     "metadata": {},
     "output_type": "execute_result"
    }
   ],
   "source": [
    "sample_df['first_genre'].unique()"
   ]
  },
  {
   "cell_type": "code",
   "execution_count": 59,
   "metadata": {},
   "outputs": [
    {
     "data": {
      "text/plain": [
       "array(['Movie', 'TV Show', 'Other', 'Short Film', 'Review', 'Clip',\n",
       "       'Educational', 'Default', nan, 'News and Commentary', 'Ambient',\n",
       "       'Concert/Performance'], dtype=object)"
      ]
     },
     "execution_count": 59,
     "metadata": {},
     "output_type": "execute_result"
    }
   ],
   "source": [
    "sample_df['entity_type'].unique()"
   ]
  },
  {
   "cell_type": "code",
   "execution_count": 60,
   "metadata": {},
   "outputs": [
    {
     "data": {
      "text/plain": [
       "array(['PRIME', 'RENTAL', 'PURCHASE'], dtype=object)"
      ]
     },
     "execution_count": 60,
     "metadata": {},
     "output_type": "execute_result"
    }
   ],
   "source": [
    "sample_df['offer_group_desc'].unique()"
   ]
  },
  {
   "cell_type": "markdown",
   "metadata": {},
   "source": [
    "# Construct nodes and edges"
   ]
  },
  {
   "cell_type": "code",
   "execution_count": 136,
   "metadata": {
    "collapsed": true
   },
   "outputs": [],
   "source": [
    "nodereader = sample_df[['series_or_movie_name','offer_group_desc','first_genre','entity_type','content_age']]"
   ]
  },
  {
   "cell_type": "code",
   "execution_count": 137,
   "metadata": {},
   "outputs": [],
   "source": [
    "edgereader = sample_df[['series_or_movie_name','encrypted_customer_id']]\n",
    "edgereader.columns = ['source','target']"
   ]
  },
  {
   "cell_type": "code",
   "execution_count": 138,
   "metadata": {},
   "outputs": [
    {
     "data": {
      "text/html": [
       "<div>\n",
       "<style>\n",
       "    .dataframe thead tr:only-child th {\n",
       "        text-align: right;\n",
       "    }\n",
       "\n",
       "    .dataframe thead th {\n",
       "        text-align: left;\n",
       "    }\n",
       "\n",
       "    .dataframe tbody tr th {\n",
       "        vertical-align: top;\n",
       "    }\n",
       "</style>\n",
       "<table border=\"1\" class=\"dataframe\">\n",
       "  <thead>\n",
       "    <tr style=\"text-align: right;\">\n",
       "      <th></th>\n",
       "      <th>series_or_movie_name</th>\n",
       "      <th>offer_group_desc</th>\n",
       "      <th>first_genre</th>\n",
       "      <th>entity_type</th>\n",
       "      <th>content_age</th>\n",
       "    </tr>\n",
       "  </thead>\n",
       "  <tbody>\n",
       "    <tr>\n",
       "      <th>8560</th>\n",
       "      <td>14 Blades</td>\n",
       "      <td>PRIME</td>\n",
       "      <td>action</td>\n",
       "      <td>Movie</td>\n",
       "      <td>NaN</td>\n",
       "    </tr>\n",
       "    <tr>\n",
       "      <th>8561</th>\n",
       "      <td>Hochzeitsnacht Im Geisterschloss</td>\n",
       "      <td>PRIME</td>\n",
       "      <td>comedy</td>\n",
       "      <td>Movie</td>\n",
       "      <td>NaN</td>\n",
       "    </tr>\n",
       "    <tr>\n",
       "      <th>10422</th>\n",
       "      <td>Mama Muh und die KrÃ¤he [dt./OV]</td>\n",
       "      <td>PRIME</td>\n",
       "      <td>animation</td>\n",
       "      <td>Movie</td>\n",
       "      <td>NaN</td>\n",
       "    </tr>\n",
       "    <tr>\n",
       "      <th>32381</th>\n",
       "      <td>Die kleine Raupe Nimmersatt und vier weitere l...</td>\n",
       "      <td>PRIME</td>\n",
       "      <td>NaN</td>\n",
       "      <td>TV Show</td>\n",
       "      <td>NaN</td>\n",
       "    </tr>\n",
       "    <tr>\n",
       "      <th>41778</th>\n",
       "      <td>Die Geier warten schon</td>\n",
       "      <td>PRIME</td>\n",
       "      <td>western</td>\n",
       "      <td>Movie</td>\n",
       "      <td>NaN</td>\n",
       "    </tr>\n",
       "  </tbody>\n",
       "</table>\n",
       "</div>"
      ],
      "text/plain": [
       "                                    series_or_movie_name offer_group_desc  \\\n",
       "8560                                           14 Blades            PRIME   \n",
       "8561                    Hochzeitsnacht Im Geisterschloss            PRIME   \n",
       "10422                   Mama Muh und die KrÃ¤he [dt./OV]            PRIME   \n",
       "32381  Die kleine Raupe Nimmersatt und vier weitere l...            PRIME   \n",
       "41778                             Die Geier warten schon            PRIME   \n",
       "\n",
       "      first_genre entity_type content_age  \n",
       "8560       action       Movie         NaN  \n",
       "8561       comedy       Movie         NaN  \n",
       "10422   animation       Movie         NaN  \n",
       "32381         NaN     TV Show         NaN  \n",
       "41778     western       Movie         NaN  "
      ]
     },
     "execution_count": 138,
     "metadata": {},
     "output_type": "execute_result"
    }
   ],
   "source": [
    "nodereader.head()"
   ]
  },
  {
   "cell_type": "code",
   "execution_count": 139,
   "metadata": {},
   "outputs": [
    {
     "data": {
      "text/html": [
       "<div>\n",
       "<style>\n",
       "    .dataframe thead tr:only-child th {\n",
       "        text-align: right;\n",
       "    }\n",
       "\n",
       "    .dataframe thead th {\n",
       "        text-align: left;\n",
       "    }\n",
       "\n",
       "    .dataframe tbody tr th {\n",
       "        vertical-align: top;\n",
       "    }\n",
       "</style>\n",
       "<table border=\"1\" class=\"dataframe\">\n",
       "  <thead>\n",
       "    <tr style=\"text-align: right;\">\n",
       "      <th></th>\n",
       "      <th>source</th>\n",
       "      <th>target</th>\n",
       "    </tr>\n",
       "  </thead>\n",
       "  <tbody>\n",
       "    <tr>\n",
       "      <th>8560</th>\n",
       "      <td>14 Blades</td>\n",
       "      <td>A13SG7MWO64BMR</td>\n",
       "    </tr>\n",
       "    <tr>\n",
       "      <th>8561</th>\n",
       "      <td>Hochzeitsnacht Im Geisterschloss</td>\n",
       "      <td>A13SG7MWO64BMR</td>\n",
       "    </tr>\n",
       "    <tr>\n",
       "      <th>10422</th>\n",
       "      <td>Mama Muh und die KrÃ¤he [dt./OV]</td>\n",
       "      <td>A12Q3AF8Q7TQ71</td>\n",
       "    </tr>\n",
       "    <tr>\n",
       "      <th>32381</th>\n",
       "      <td>Die kleine Raupe Nimmersatt und vier weitere l...</td>\n",
       "      <td>AMTRBK7UL7LOJ</td>\n",
       "    </tr>\n",
       "    <tr>\n",
       "      <th>41778</th>\n",
       "      <td>Die Geier warten schon</td>\n",
       "      <td>A13SG7MWO64BMR</td>\n",
       "    </tr>\n",
       "  </tbody>\n",
       "</table>\n",
       "</div>"
      ],
      "text/plain": [
       "                                                  source          target\n",
       "8560                                           14 Blades  A13SG7MWO64BMR\n",
       "8561                    Hochzeitsnacht Im Geisterschloss  A13SG7MWO64BMR\n",
       "10422                   Mama Muh und die KrÃ¤he [dt./OV]  A12Q3AF8Q7TQ71\n",
       "32381  Die kleine Raupe Nimmersatt und vier weitere l...   AMTRBK7UL7LOJ\n",
       "41778                             Die Geier warten schon  A13SG7MWO64BMR"
      ]
     },
     "execution_count": 139,
     "metadata": {},
     "output_type": "execute_result"
    }
   ],
   "source": [
    "edgereader.head()"
   ]
  },
  {
   "cell_type": "markdown",
   "metadata": {},
   "source": [
    "# Import networkx"
   ]
  },
  {
   "cell_type": "code",
   "execution_count": 140,
   "metadata": {
    "collapsed": true
   },
   "outputs": [],
   "source": [
    "import networkx as nx\n",
    "\n",
    "from operator import itemgetter\n",
    "import community"
   ]
  },
  {
   "cell_type": "code",
   "execution_count": 141,
   "metadata": {},
   "outputs": [],
   "source": [
    "node_names = [i for i in nodereader.iloc[:,0]]"
   ]
  },
  {
   "cell_type": "code",
   "execution_count": 142,
   "metadata": {},
   "outputs": [
    {
     "data": {
      "text/plain": [
       "['14 Blades',\n",
       " 'Hochzeitsnacht Im Geisterschloss',\n",
       " 'Mama Muh und die KrÃ¤he [dt./OV]',\n",
       " 'Die kleine Raupe Nimmersatt und vier weitere lustige Abenteuer',\n",
       " 'Die Geier warten schon']"
      ]
     },
     "execution_count": 142,
     "metadata": {},
     "output_type": "execute_result"
    }
   ],
   "source": [
    "node_names[0:5]"
   ]
  },
  {
   "cell_type": "code",
   "execution_count": 143,
   "metadata": {},
   "outputs": [],
   "source": [
    "edges = list(zip(edgereader.source, edgereader.target)) #create tuple for every pair from the dataset"
   ]
  },
  {
   "cell_type": "code",
   "execution_count": 144,
   "metadata": {},
   "outputs": [
    {
     "name": "stdout",
     "output_type": "stream",
     "text": [
      "1684\n",
      "1684\n"
     ]
    }
   ],
   "source": [
    "print(len(node_names))\n",
    "print(len(edges))"
   ]
  },
  {
   "cell_type": "markdown",
   "metadata": {},
   "source": [
    "# Basics of NetworkX: Creating the Graph"
   ]
  },
  {
   "cell_type": "code",
   "execution_count": 134,
   "metadata": {
    "collapsed": true
   },
   "outputs": [],
   "source": [
    "G = nx.Graph() #creates empty graph, initiliasize a graph object\n",
    "\n",
    "#Add list of nodes and edges\n",
    "G.add_nodes_from(node_names)\n",
    "G.add_edges_from(edges)"
   ]
  },
  {
   "cell_type": "code",
   "execution_count": 135,
   "metadata": {},
   "outputs": [
    {
     "name": "stdout",
     "output_type": "stream",
     "text": [
      "Name: \n",
      "Type: Graph\n",
      "Number of nodes: 1407\n",
      "Number of edges: 1673\n",
      "Average degree:   2.3781\n"
     ]
    }
   ],
   "source": [
    "print(nx.info(G)) #print basic info about the newly create graph"
   ]
  },
  {
   "cell_type": "markdown",
   "metadata": {},
   "source": [
    "# Adding attributes"
   ]
  },
  {
   "cell_type": "code",
   "execution_count": 171,
   "metadata": {
    "collapsed": true
   },
   "outputs": [],
   "source": [
    "#initialize empty dictionaries\n",
    "\n",
    "offer_group_desc_dict = {}\n",
    "first_genre_dict = {}\n",
    "entity_type_dict = {}"
   ]
  },
  {
   "cell_type": "code",
   "execution_count": 172,
   "metadata": {},
   "outputs": [],
   "source": [
    "#Make nodes generator, i.e. convert each row of dataframe into a list\n",
    "nodes = nodereader.values.tolist() "
   ]
  },
  {
   "cell_type": "code",
   "execution_count": 173,
   "metadata": {},
   "outputs": [
    {
     "data": {
      "text/plain": [
       "[['14 Blades', 'PRIME', 'action', 'Movie', nan],\n",
       " ['Hochzeitsnacht Im Geisterschloss', 'PRIME', 'comedy', 'Movie', nan],\n",
       " ['Mama Muh und die KrÃ¤he [dt./OV]', 'PRIME', 'animation', 'Movie', nan],\n",
       " ['Die kleine Raupe Nimmersatt und vier weitere lustige Abenteuer',\n",
       "  'PRIME',\n",
       "  nan,\n",
       "  'TV Show',\n",
       "  nan]]"
      ]
     },
     "execution_count": 173,
     "metadata": {},
     "output_type": "execute_result"
    }
   ],
   "source": [
    "nodes[0:4]"
   ]
  },
  {
   "cell_type": "code",
   "execution_count": 174,
   "metadata": {},
   "outputs": [],
   "source": [
    "for node in nodes:\n",
    "    offer_group_desc_dict[node[0]] = node[1]\n",
    "    first_genre_dict[node[0]] = node[2]\n",
    "    entity_type_dict[node[0]] = node[3]"
   ]
  },
  {
   "cell_type": "markdown",
   "metadata": {},
   "source": [
    "<p> After having each attribute in a node, add attributes to Graph using set_node_attributes function\n",
    "which takes 3 variables : the graph to which attributes are added , name of the attribute, dict of attributes </p>"
   ]
  },
  {
   "cell_type": "code",
   "execution_count": 178,
   "metadata": {},
   "outputs": [],
   "source": [
    "nx.set_node_attributes(G,  offer_group_desc_dict, 'offer_group')\n",
    "nx.set_node_attributes(G, first_genre_dict, 'genre')\n",
    "nx.set_node_attributes(G, entity_type_dict, 'entity_type')"
   ]
  },
  {
   "cell_type": "markdown",
   "metadata": {},
   "source": [
    "<p> Now all nodes have attributes, which can be accessed at any time </p>\n",
    "<p> For example, print all genres of the nodes by looping through them and accessing genre attribute </p>"
   ]
  },
  {
   "cell_type": "code",
   "execution_count": 183,
   "metadata": {},
   "outputs": [],
   "source": [
    "# for n in G.nodes():\n",
    "#     print(n, G.node[n]['genre'])"
   ]
  },
  {
   "cell_type": "markdown",
   "metadata": {},
   "source": [
    "# Metrics available in Networkx\n",
    "\n",
    "\n",
    "<p> A good metric to begin with is network density. This is simply the ratio of actual edges in the network to all possible edges in the network. In an undirected network like this one, there could be a single edge between any two nodes, but as you saw in the visualization, only a few of those possible edges are actually present. Network density gives you a quick sense of how closely knit your network is.\n",
    "</p>"
   ]
  },
  {
   "cell_type": "code",
   "execution_count": 181,
   "metadata": {},
   "outputs": [
    {
     "name": "stdout",
     "output_type": "stream",
     "text": [
      "Network density:  0.0016914007487456035\n"
     ]
    }
   ],
   "source": [
    "density = nx.density(G)\n",
    "print(\"Network density: \", density)"
   ]
  },
  {
   "cell_type": "markdown",
   "metadata": {},
   "source": [
    "<p>\n",
    "In this case, the density of our network is quite low. On a scale of 0 to 1, not a very dense network, which comports with what you can see in the visualization.8 A 0 would mean that there are no connections at all, and a 1 would indicate that all possible edges are present (a perfectly connected network): this Quaker network is on the lower end of that scale, but still far from 0.\n",
    "</p>\n",
    "\n",
    "\n",
    "<p> A shortest path measurement is a bit more complex. It calculates the shortest possible series of nodes and edges that stand between any two nodes, something hard to see in large network visualizations. This measure is essentially finding friends-of-friends—if my mother knows someone that I don’t, then mom is the shortest path between me and that person.\n",
    "</p>"
   ]
  },
  {
   "cell_type": "markdown",
   "metadata": {},
   "source": [
    "# Export graph"
   ]
  },
  {
   "cell_type": "code",
   "execution_count": 182,
   "metadata": {
    "collapsed": true
   },
   "outputs": [],
   "source": [
    "nx.write_gexf(G, 'sample_movies.gexf')"
   ]
  }
 ],
 "metadata": {
  "kernelspec": {
   "display_name": "Python 3",
   "language": "python",
   "name": "python3"
  },
  "language_info": {
   "codemirror_mode": {
    "name": "ipython",
    "version": 3
   },
   "file_extension": ".py",
   "mimetype": "text/x-python",
   "name": "python",
   "nbconvert_exporter": "python",
   "pygments_lexer": "ipython3",
   "version": "3.6.3"
  }
 },
 "nbformat": 4,
 "nbformat_minor": 2
}
